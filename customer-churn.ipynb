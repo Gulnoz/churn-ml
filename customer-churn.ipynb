{
 "cells": [
  {
   "cell_type": "code",
   "execution_count": 2,
   "id": "a03255b1-00b4-4780-8e23-6069d09f47b5",
   "metadata": {
    "execution": {
     "iopub.execute_input": "2025-02-17T19:03:48.493192Z",
     "iopub.status.busy": "2025-02-17T19:03:48.492801Z",
     "iopub.status.idle": "2025-02-17T19:03:53.518472Z",
     "shell.execute_reply": "2025-02-17T19:03:53.509579Z",
     "shell.execute_reply.started": "2025-02-17T19:03:48.493147Z"
    }
   },
   "outputs": [
    {
     "name": "stdout",
     "output_type": "stream",
     "text": [
      "Collecting s3fs\n",
      "  Using cached s3fs-2025.2.0-py3-none-any.whl.metadata (1.9 kB)\n",
      "Requirement already satisfied: aiobotocore<3.0.0,>=2.5.4 in /opt/conda/lib/python3.11/site-packages (from s3fs) (2.13.3)\n",
      "Collecting fsspec==2025.2.0.* (from s3fs)\n",
      "  Using cached fsspec-2025.2.0-py3-none-any.whl.metadata (11 kB)\n",
      "Requirement already satisfied: aiohttp!=4.0.0a0,!=4.0.0a1 in /opt/conda/lib/python3.11/site-packages (from s3fs) (3.9.5)\n",
      "Requirement already satisfied: botocore<1.34.163,>=1.34.70 in /opt/conda/lib/python3.11/site-packages (from aiobotocore<3.0.0,>=2.5.4->s3fs) (1.34.162)\n",
      "Requirement already satisfied: wrapt<2.0.0,>=1.10.10 in /opt/conda/lib/python3.11/site-packages (from aiobotocore<3.0.0,>=2.5.4->s3fs) (1.17.2)\n",
      "Requirement already satisfied: aioitertools<1.0.0,>=0.5.1 in /opt/conda/lib/python3.11/site-packages (from aiobotocore<3.0.0,>=2.5.4->s3fs) (0.12.0)\n",
      "Requirement already satisfied: aiosignal>=1.1.2 in /opt/conda/lib/python3.11/site-packages (from aiohttp!=4.0.0a0,!=4.0.0a1->s3fs) (1.3.2)\n",
      "Requirement already satisfied: attrs>=17.3.0 in /opt/conda/lib/python3.11/site-packages (from aiohttp!=4.0.0a0,!=4.0.0a1->s3fs) (23.2.0)\n",
      "Requirement already satisfied: frozenlist>=1.1.1 in /opt/conda/lib/python3.11/site-packages (from aiohttp!=4.0.0a0,!=4.0.0a1->s3fs) (1.5.0)\n",
      "Requirement already satisfied: multidict<7.0,>=4.5 in /opt/conda/lib/python3.11/site-packages (from aiohttp!=4.0.0a0,!=4.0.0a1->s3fs) (6.1.0)\n",
      "Requirement already satisfied: yarl<2.0,>=1.0 in /opt/conda/lib/python3.11/site-packages (from aiohttp!=4.0.0a0,!=4.0.0a1->s3fs) (1.18.3)\n",
      "Requirement already satisfied: jmespath<2.0.0,>=0.7.1 in /opt/conda/lib/python3.11/site-packages (from botocore<1.34.163,>=1.34.70->aiobotocore<3.0.0,>=2.5.4->s3fs) (1.0.1)\n",
      "Requirement already satisfied: python-dateutil<3.0.0,>=2.1 in /opt/conda/lib/python3.11/site-packages (from botocore<1.34.163,>=1.34.70->aiobotocore<3.0.0,>=2.5.4->s3fs) (2.9.0.post0)\n",
      "Requirement already satisfied: urllib3!=2.2.0,<3,>=1.25.4 in /opt/conda/lib/python3.11/site-packages (from botocore<1.34.163,>=1.34.70->aiobotocore<3.0.0,>=2.5.4->s3fs) (1.26.19)\n",
      "Requirement already satisfied: idna>=2.0 in /opt/conda/lib/python3.11/site-packages (from yarl<2.0,>=1.0->aiohttp!=4.0.0a0,!=4.0.0a1->s3fs) (3.10)\n",
      "Requirement already satisfied: propcache>=0.2.0 in /opt/conda/lib/python3.11/site-packages (from yarl<2.0,>=1.0->aiohttp!=4.0.0a0,!=4.0.0a1->s3fs) (0.2.1)\n",
      "Requirement already satisfied: six>=1.5 in /opt/conda/lib/python3.11/site-packages (from python-dateutil<3.0.0,>=2.1->botocore<1.34.163,>=1.34.70->aiobotocore<3.0.0,>=2.5.4->s3fs) (1.17.0)\n",
      "Using cached s3fs-2025.2.0-py3-none-any.whl (30 kB)\n",
      "Using cached fsspec-2025.2.0-py3-none-any.whl (184 kB)\n",
      "Installing collected packages: fsspec, s3fs\n",
      "  Attempting uninstall: fsspec\n",
      "    Found existing installation: fsspec 2023.6.0\n",
      "    Uninstalling fsspec-2023.6.0:\n",
      "      Successfully uninstalled fsspec-2023.6.0\n",
      "\u001b[31mERROR: pip's dependency resolver does not currently take into account all the packages that are installed. This behaviour is the source of the following dependency conflicts.\n",
      "jupyter-ai 2.28.5 requires faiss-cpu!=1.8.0.post0,<2.0.0,>=1.8.0, which is not installed.\n",
      "jupyter-scheduler 2.9.0 requires fsspec==2023.6.0, but you have fsspec 2025.2.0 which is incompatible.\u001b[0m\u001b[31m\n",
      "\u001b[0mSuccessfully installed fsspec-2025.2.0 s3fs-2025.2.0\n"
     ]
    }
   ],
   "source": [
    "!pip install s3fs"
   ]
  },
  {
   "cell_type": "code",
   "execution_count": 4,
   "id": "19cfe1d2-6917-4ee0-88b7-3304571904e8",
   "metadata": {
    "execution": {
     "iopub.execute_input": "2025-02-17T19:04:28.123207Z",
     "iopub.status.busy": "2025-02-17T19:04:28.122818Z",
     "iopub.status.idle": "2025-02-17T19:04:32.142707Z",
     "shell.execute_reply": "2025-02-17T19:04:32.141806Z",
     "shell.execute_reply.started": "2025-02-17T19:04:28.123168Z"
    }
   },
   "outputs": [
    {
     "name": "stdout",
     "output_type": "stream",
     "text": [
      "Collecting shap\n",
      "  Using cached shap-0.46.0-cp311-cp311-manylinux_2_12_x86_64.manylinux2010_x86_64.manylinux_2_17_x86_64.manylinux2014_x86_64.whl.metadata (24 kB)\n",
      "Requirement already satisfied: numpy in /opt/conda/lib/python3.11/site-packages (from shap) (1.26.4)\n",
      "Requirement already satisfied: scipy in /opt/conda/lib/python3.11/site-packages (from shap) (1.14.1)\n",
      "Requirement already satisfied: scikit-learn in /opt/conda/lib/python3.11/site-packages (from shap) (1.5.2)\n",
      "Requirement already satisfied: pandas in /opt/conda/lib/python3.11/site-packages (from shap) (2.2.3)\n",
      "Requirement already satisfied: tqdm>=4.27.0 in /opt/conda/lib/python3.11/site-packages (from shap) (4.67.1)\n",
      "Requirement already satisfied: packaging>20.9 in /opt/conda/lib/python3.11/site-packages (from shap) (24.2)\n",
      "Collecting slicer==0.0.8 (from shap)\n",
      "  Using cached slicer-0.0.8-py3-none-any.whl.metadata (4.0 kB)\n",
      "Requirement already satisfied: numba in /opt/conda/lib/python3.11/site-packages (from shap) (0.61.0)\n",
      "Requirement already satisfied: cloudpickle in /opt/conda/lib/python3.11/site-packages (from shap) (2.2.1)\n",
      "Requirement already satisfied: llvmlite<0.45,>=0.44.0dev0 in /opt/conda/lib/python3.11/site-packages (from numba->shap) (0.44.0)\n",
      "Requirement already satisfied: python-dateutil>=2.8.2 in /opt/conda/lib/python3.11/site-packages (from pandas->shap) (2.9.0.post0)\n",
      "Requirement already satisfied: pytz>=2020.1 in /opt/conda/lib/python3.11/site-packages (from pandas->shap) (2023.3)\n",
      "Requirement already satisfied: tzdata>=2022.7 in /opt/conda/lib/python3.11/site-packages (from pandas->shap) (2025.1)\n",
      "Requirement already satisfied: joblib>=1.2.0 in /opt/conda/lib/python3.11/site-packages (from scikit-learn->shap) (1.4.2)\n",
      "Requirement already satisfied: threadpoolctl>=3.1.0 in /opt/conda/lib/python3.11/site-packages (from scikit-learn->shap) (3.5.0)\n",
      "Requirement already satisfied: six>=1.5 in /opt/conda/lib/python3.11/site-packages (from python-dateutil>=2.8.2->pandas->shap) (1.17.0)\n",
      "Using cached shap-0.46.0-cp311-cp311-manylinux_2_12_x86_64.manylinux2010_x86_64.manylinux_2_17_x86_64.manylinux2014_x86_64.whl (540 kB)\n",
      "Using cached slicer-0.0.8-py3-none-any.whl (15 kB)\n",
      "Installing collected packages: slicer, shap\n",
      "Successfully installed shap-0.46.0 slicer-0.0.8\n"
     ]
    }
   ],
   "source": [
    "!pip install shap"
   ]
  },
  {
   "cell_type": "code",
   "execution_count": 6,
   "id": "f02c4c18-ebc0-4949-9dc3-c5cfa8fc1d91",
   "metadata": {
    "execution": {
     "iopub.execute_input": "2025-02-17T19:11:37.619341Z",
     "iopub.status.busy": "2025-02-17T19:11:37.618910Z",
     "iopub.status.idle": "2025-02-17T19:11:48.450062Z",
     "shell.execute_reply": "2025-02-17T19:11:48.448909Z",
     "shell.execute_reply.started": "2025-02-17T19:11:37.619314Z"
    }
   },
   "outputs": [
    {
     "name": "stdout",
     "output_type": "stream",
     "text": [
      "Collecting smdebug\n",
      "  Using cached smdebug-1.0.34-py2.py3-none-any.whl.metadata (1.8 kB)\n",
      "Collecting protobuf<=3.20.3,>=3.20.0 (from smdebug)\n",
      "  Using cached protobuf-3.20.3-py2.py3-none-any.whl.metadata (720 bytes)\n",
      "Requirement already satisfied: numpy>=1.16.0 in /opt/conda/lib/python3.11/site-packages (from smdebug) (1.26.4)\n",
      "Requirement already satisfied: packaging in /opt/conda/lib/python3.11/site-packages (from smdebug) (24.2)\n",
      "Requirement already satisfied: boto3>=1.10.32 in /opt/conda/lib/python3.11/site-packages (from smdebug) (1.34.162)\n",
      "Collecting pyinstrument==3.4.2 (from smdebug)\n",
      "  Using cached pyinstrument-3.4.2-py2.py3-none-any.whl.metadata (22 kB)\n",
      "Collecting pyinstrument-cext>=0.2.2 (from pyinstrument==3.4.2->smdebug)\n",
      "  Using cached pyinstrument_cext-0.2.4-cp311-cp311-linux_x86_64.whl\n",
      "Requirement already satisfied: botocore<1.35.0,>=1.34.162 in /opt/conda/lib/python3.11/site-packages (from boto3>=1.10.32->smdebug) (1.34.162)\n",
      "Requirement already satisfied: jmespath<2.0.0,>=0.7.1 in /opt/conda/lib/python3.11/site-packages (from boto3>=1.10.32->smdebug) (1.0.1)\n",
      "Requirement already satisfied: s3transfer<0.11.0,>=0.10.0 in /opt/conda/lib/python3.11/site-packages (from boto3>=1.10.32->smdebug) (0.10.4)\n",
      "Requirement already satisfied: python-dateutil<3.0.0,>=2.1 in /opt/conda/lib/python3.11/site-packages (from botocore<1.35.0,>=1.34.162->boto3>=1.10.32->smdebug) (2.9.0.post0)\n",
      "Requirement already satisfied: urllib3!=2.2.0,<3,>=1.25.4 in /opt/conda/lib/python3.11/site-packages (from botocore<1.35.0,>=1.34.162->boto3>=1.10.32->smdebug) (1.26.19)\n",
      "Requirement already satisfied: six>=1.5 in /opt/conda/lib/python3.11/site-packages (from python-dateutil<3.0.0,>=2.1->botocore<1.35.0,>=1.34.162->boto3>=1.10.32->smdebug) (1.17.0)\n",
      "Using cached smdebug-1.0.34-py2.py3-none-any.whl (280 kB)\n",
      "Using cached pyinstrument-3.4.2-py2.py3-none-any.whl (83 kB)\n",
      "Using cached protobuf-3.20.3-py2.py3-none-any.whl (162 kB)\n",
      "Installing collected packages: pyinstrument-cext, pyinstrument, protobuf, smdebug\n",
      "  Attempting uninstall: protobuf\n",
      "    Found existing installation: protobuf 4.25.3\n",
      "    Uninstalling protobuf-4.25.3:\n",
      "      Successfully uninstalled protobuf-4.25.3\n",
      "Successfully installed protobuf-3.20.3 pyinstrument-3.4.2 pyinstrument-cext-0.2.4 smdebug-1.0.34\n"
     ]
    }
   ],
   "source": [
    "!pip install smdebug"
   ]
  },
  {
   "cell_type": "code",
   "execution_count": 6,
   "id": "cf72434a-efb8-4585-80fb-7365dfe92b70",
   "metadata": {
    "execution": {
     "iopub.execute_input": "2025-02-17T05:54:26.240557Z",
     "iopub.status.busy": "2025-02-17T05:54:26.239363Z",
     "iopub.status.idle": "2025-02-17T05:54:51.621227Z",
     "shell.execute_reply": "2025-02-17T05:54:51.618927Z",
     "shell.execute_reply.started": "2025-02-17T05:54:26.240510Z"
    }
   },
   "outputs": [
    {
     "name": "stdout",
     "output_type": "stream",
     "text": [
      "Collecting smdebug\n",
      "  Downloading smdebug-1.0.34-py2.py3-none-any.whl.metadata (1.8 kB)\n",
      "Collecting protobuf<=3.20.3,>=3.20.0 (from smdebug)\n",
      "  Downloading protobuf-3.20.3-py2.py3-none-any.whl.metadata (720 bytes)\n",
      "Requirement already satisfied: numpy>=1.16.0 in /opt/conda/lib/python3.11/site-packages (from smdebug) (1.26.4)\n",
      "Requirement already satisfied: packaging in /opt/conda/lib/python3.11/site-packages (from smdebug) (24.2)\n",
      "Requirement already satisfied: boto3>=1.10.32 in /opt/conda/lib/python3.11/site-packages (from smdebug) (1.34.162)\n",
      "Collecting pyinstrument==3.4.2 (from smdebug)\n",
      "  Downloading pyinstrument-3.4.2-py2.py3-none-any.whl.metadata (22 kB)\n",
      "Collecting pyinstrument-cext>=0.2.2 (from pyinstrument==3.4.2->smdebug)\n",
      "  Downloading pyinstrument_cext-0.2.4.tar.gz (4.8 kB)\n",
      "  Preparing metadata (setup.py) ... \u001b[?25ldone\n",
      "\u001b[?25hRequirement already satisfied: botocore<1.35.0,>=1.34.162 in /opt/conda/lib/python3.11/site-packages (from boto3>=1.10.32->smdebug) (1.34.162)\n",
      "Requirement already satisfied: jmespath<2.0.0,>=0.7.1 in /opt/conda/lib/python3.11/site-packages (from boto3>=1.10.32->smdebug) (1.0.1)\n",
      "Requirement already satisfied: s3transfer<0.11.0,>=0.10.0 in /opt/conda/lib/python3.11/site-packages (from boto3>=1.10.32->smdebug) (0.10.4)\n",
      "Requirement already satisfied: python-dateutil<3.0.0,>=2.1 in /opt/conda/lib/python3.11/site-packages (from botocore<1.35.0,>=1.34.162->boto3>=1.10.32->smdebug) (2.9.0.post0)\n",
      "Requirement already satisfied: urllib3!=2.2.0,<3,>=1.25.4 in /opt/conda/lib/python3.11/site-packages (from botocore<1.35.0,>=1.34.162->boto3>=1.10.32->smdebug) (1.26.19)\n",
      "Requirement already satisfied: six>=1.5 in /opt/conda/lib/python3.11/site-packages (from python-dateutil<3.0.0,>=2.1->botocore<1.35.0,>=1.34.162->boto3>=1.10.32->smdebug) (1.17.0)\n",
      "Downloading smdebug-1.0.34-py2.py3-none-any.whl (280 kB)\n",
      "Downloading pyinstrument-3.4.2-py2.py3-none-any.whl (83 kB)\n",
      "Downloading protobuf-3.20.3-py2.py3-none-any.whl (162 kB)\n",
      "Building wheels for collected packages: pyinstrument-cext\n",
      "  Building wheel for pyinstrument-cext (setup.py) ... \u001b[?25ldone\n",
      "\u001b[?25h  Created wheel for pyinstrument-cext: filename=pyinstrument_cext-0.2.4-cp311-cp311-linux_x86_64.whl size=6443 sha256=b306f8ba8e9516dd7b81c9c72b69f7a386090c01f4de2ce74a4b2fa0509f2e23\n",
      "  Stored in directory: /home/sagemaker-user/.cache/pip/wheels/6c/d4/b3/f7bd451cdb774b086ee5c4791eff9a667fb197759f2f691f66\n",
      "Successfully built pyinstrument-cext\n",
      "Installing collected packages: pyinstrument-cext, pyinstrument, protobuf, smdebug\n",
      "  Attempting uninstall: protobuf\n",
      "    Found existing installation: protobuf 4.25.3\n",
      "    Uninstalling protobuf-4.25.3:\n",
      "      Successfully uninstalled protobuf-4.25.3\n",
      "Successfully installed protobuf-3.20.3 pyinstrument-3.4.2 pyinstrument-cext-0.2.4 smdebug-1.0.34\n"
     ]
    }
   ],
   "source": [
    "!pip install smdebug"
   ]
  },
  {
   "cell_type": "code",
   "execution_count": 54,
   "id": "b205be61-6bb3-470a-b1fd-55f50c946e82",
   "metadata": {
    "execution": {
     "iopub.execute_input": "2025-02-17T20:53:02.398262Z",
     "iopub.status.busy": "2025-02-17T20:53:02.397810Z",
     "iopub.status.idle": "2025-02-17T20:53:02.430880Z",
     "shell.execute_reply": "2025-02-17T20:53:02.422963Z",
     "shell.execute_reply.started": "2025-02-17T20:53:02.398228Z"
    }
   },
   "outputs": [],
   "source": [
    "import re\n",
    "import s3fs\n",
    "import shap\n",
    "import time\n",
    "import boto3\n",
    "import pandas as pd\n",
    "import numpy as np\n",
    "\n",
    "from itertools import islice\n",
    "import matplotlib.pyplot as plt\n",
    "\n",
    "import sagemaker\n",
    "from sagemaker.xgboost.estimator import XGBoost\n",
    "from sagemaker.session import Session\n",
    "from sagemaker.inputs import TrainingInput\n",
    "from sagemaker.debugger import DebuggerHookConfig,CollectionConfig\n",
    "from sagemaker.debugger import rule_configs, Rule\n",
    "from smdebug.trials import create_trial\n",
    "from sagemaker.tuner import (\n",
    "    IntegerParameter,\n",
    "    CategoricalParameter,\n",
    "    ContinuousParameter,\n",
    "    HyperparameterTuner\n",
    ")"
   ]
  },
  {
   "cell_type": "code",
   "execution_count": 8,
   "id": "8188d0e5-fb80-4105-8201-fa1213d26d68",
   "metadata": {
    "execution": {
     "iopub.execute_input": "2025-02-17T19:13:06.824696Z",
     "iopub.status.busy": "2025-02-17T19:13:06.824121Z",
     "iopub.status.idle": "2025-02-17T19:13:06.829601Z",
     "shell.execute_reply": "2025-02-17T19:13:06.828783Z",
     "shell.execute_reply.started": "2025-02-17T19:13:06.824659Z"
    }
   },
   "outputs": [],
   "source": [
    "default_bucket = \"julia-ohio-bucket\""
   ]
  },
  {
   "cell_type": "code",
   "execution_count": 9,
   "id": "23050966-c048-4225-b26a-2533c2fa5efb",
   "metadata": {
    "execution": {
     "iopub.execute_input": "2025-02-17T19:13:11.818489Z",
     "iopub.status.busy": "2025-02-17T19:13:11.818105Z",
     "iopub.status.idle": "2025-02-17T19:13:13.726309Z",
     "shell.execute_reply": "2025-02-17T19:13:13.725444Z",
     "shell.execute_reply.started": "2025-02-17T19:13:11.818464Z"
    }
   },
   "outputs": [
    {
     "name": "stdout",
     "output_type": "stream",
     "text": [
      "sagemaker.config INFO - Applied value from config key = SageMaker.PythonSDK.Modules.Session.DefaultS3Bucket\n",
      "sagemaker.config INFO - Applied value from config key = SageMaker.PythonSDK.Modules.Session.DefaultS3ObjectKeyPrefix\n",
      "sagemaker.config INFO - Applied value from config key = SageMaker.PythonSDK.Modules.Session.DefaultS3Bucket\n",
      "sagemaker.config INFO - Applied value from config key = SageMaker.PythonSDK.Modules.Session.DefaultS3ObjectKeyPrefix\n"
     ]
    }
   ],
   "source": [
    "sagemaker_session = sagemaker.Session()\n",
    "role = sagemaker.get_execution_role()\n",
    "region = sagemaker_session.boto_region_name"
   ]
  },
  {
   "cell_type": "code",
   "execution_count": 10,
   "id": "cfbcaf73-0d39-45e9-80d7-b0071984c6ad",
   "metadata": {
    "execution": {
     "iopub.execute_input": "2025-02-17T19:13:21.636724Z",
     "iopub.status.busy": "2025-02-17T19:13:21.636328Z",
     "iopub.status.idle": "2025-02-17T19:13:21.663558Z",
     "shell.execute_reply": "2025-02-17T19:13:21.660588Z",
     "shell.execute_reply.started": "2025-02-17T19:13:21.636688Z"
    }
   },
   "outputs": [],
   "source": [
    "def preprocess_data(file_path):\n",
    "    df = pd.read_excel(file_path)\n",
    "    ## Convert to datetime columns\n",
    "    df[\"firstorder\"]=pd.to_datetime(df[\"firstorder\"],errors='coerce')\n",
    "    df[\"lastorder\"] = pd.to_datetime(df[\"lastorder\"],errors='coerce')\n",
    "    ## Drop Rows with null values\n",
    "    df = df.dropna()\n",
    "    ## Create Column which gives the days between the last order and the first order\n",
    "    df[\"first_last_days_diff\"] = (df['lastorder']-df['firstorder']).dt.days\n",
    "    ## Create Column which gives the days between when the customer record was created and the first order\n",
    "    df['created'] = pd.to_datetime(df['created'])\n",
    "    df['created_first_days_diff']=(df['created']-df['firstorder']).dt.days\n",
    "    ## Drop Columns\n",
    "    df.drop(['custid','created','firstorder','lastorder'],axis=1,inplace=True)\n",
    "    ## Apply one hot encoding on favday and city columns\n",
    "    df = pd.get_dummies(df,prefix=['favday','city'],columns=['favday','city'])\n",
    "    return df"
   ]
  },
  {
   "cell_type": "code",
   "execution_count": 11,
   "id": "a33cbc9a-9c3b-4edf-b6a2-8160378f932a",
   "metadata": {
    "execution": {
     "iopub.execute_input": "2025-02-17T19:13:34.470284Z",
     "iopub.status.busy": "2025-02-17T19:13:34.469705Z",
     "iopub.status.idle": "2025-02-17T19:13:39.806397Z",
     "shell.execute_reply": "2025-02-17T19:13:39.805333Z",
     "shell.execute_reply.started": "2025-02-17T19:13:34.470204Z"
    }
   },
   "outputs": [
    {
     "name": "stdout",
     "output_type": "stream",
     "text": [
      "Collecting openpyxl\n",
      "  Using cached openpyxl-3.1.5-py2.py3-none-any.whl.metadata (2.5 kB)\n",
      "Collecting et-xmlfile (from openpyxl)\n",
      "  Using cached et_xmlfile-2.0.0-py3-none-any.whl.metadata (2.7 kB)\n",
      "Using cached openpyxl-3.1.5-py2.py3-none-any.whl (250 kB)\n",
      "Using cached et_xmlfile-2.0.0-py3-none-any.whl (18 kB)\n",
      "Installing collected packages: et-xmlfile, openpyxl\n",
      "Successfully installed et-xmlfile-2.0.0 openpyxl-3.1.5\n"
     ]
    }
   ],
   "source": [
    "!pip install openpyxl"
   ]
  },
  {
   "cell_type": "code",
   "execution_count": 49,
   "id": "d4076df2-47c7-4deb-ade8-bf77dfadafe3",
   "metadata": {
    "execution": {
     "iopub.execute_input": "2025-02-17T20:40:15.932091Z",
     "iopub.status.busy": "2025-02-17T20:40:15.931456Z",
     "iopub.status.idle": "2025-02-17T20:40:23.830567Z",
     "shell.execute_reply": "2025-02-17T20:40:23.829532Z",
     "shell.execute_reply.started": "2025-02-17T20:40:15.932054Z"
    }
   },
   "outputs": [],
   "source": [
    "storedata = preprocess_data(f\"s3://{default_bucket}/data/storedata_total.xlsx\")\n"
   ]
  },
  {
   "cell_type": "code",
   "execution_count": 50,
   "id": "2a4622e4-d74a-456e-87e8-9f52ef4b9f94",
   "metadata": {
    "execution": {
     "iopub.execute_input": "2025-02-17T20:40:23.832343Z",
     "iopub.status.busy": "2025-02-17T20:40:23.831862Z",
     "iopub.status.idle": "2025-02-17T20:40:23.852685Z",
     "shell.execute_reply": "2025-02-17T20:40:23.851896Z",
     "shell.execute_reply.started": "2025-02-17T20:40:23.832310Z"
    }
   },
   "outputs": [
    {
     "data": {
      "text/html": [
       "<div>\n",
       "<style scoped>\n",
       "    .dataframe tbody tr th:only-of-type {\n",
       "        vertical-align: middle;\n",
       "    }\n",
       "\n",
       "    .dataframe tbody tr th {\n",
       "        vertical-align: top;\n",
       "    }\n",
       "\n",
       "    .dataframe thead th {\n",
       "        text-align: right;\n",
       "    }\n",
       "</style>\n",
       "<table border=\"1\" class=\"dataframe\">\n",
       "  <thead>\n",
       "    <tr style=\"text-align: right;\">\n",
       "      <th></th>\n",
       "      <th>retained</th>\n",
       "      <th>esent</th>\n",
       "      <th>eopenrate</th>\n",
       "      <th>eclickrate</th>\n",
       "      <th>avgorder</th>\n",
       "      <th>ordfreq</th>\n",
       "      <th>paperless</th>\n",
       "      <th>refill</th>\n",
       "      <th>doorstep</th>\n",
       "      <th>first_last_days_diff</th>\n",
       "      <th>...</th>\n",
       "      <th>favday_Monday</th>\n",
       "      <th>favday_Saturday</th>\n",
       "      <th>favday_Sunday</th>\n",
       "      <th>favday_Thursday</th>\n",
       "      <th>favday_Tuesday</th>\n",
       "      <th>favday_Wednesday</th>\n",
       "      <th>city_BLR</th>\n",
       "      <th>city_BOM</th>\n",
       "      <th>city_DEL</th>\n",
       "      <th>city_MAA</th>\n",
       "    </tr>\n",
       "  </thead>\n",
       "  <tbody>\n",
       "    <tr>\n",
       "      <th>0</th>\n",
       "      <td>0</td>\n",
       "      <td>29</td>\n",
       "      <td>100.000000</td>\n",
       "      <td>3.448276</td>\n",
       "      <td>14.52</td>\n",
       "      <td>0.000000</td>\n",
       "      <td>0</td>\n",
       "      <td>0</td>\n",
       "      <td>0</td>\n",
       "      <td>0</td>\n",
       "      <td>...</td>\n",
       "      <td>True</td>\n",
       "      <td>False</td>\n",
       "      <td>False</td>\n",
       "      <td>False</td>\n",
       "      <td>False</td>\n",
       "      <td>False</td>\n",
       "      <td>False</td>\n",
       "      <td>False</td>\n",
       "      <td>True</td>\n",
       "      <td>False</td>\n",
       "    </tr>\n",
       "    <tr>\n",
       "      <th>1</th>\n",
       "      <td>1</td>\n",
       "      <td>95</td>\n",
       "      <td>92.631579</td>\n",
       "      <td>10.526316</td>\n",
       "      <td>83.69</td>\n",
       "      <td>0.181641</td>\n",
       "      <td>1</td>\n",
       "      <td>1</td>\n",
       "      <td>1</td>\n",
       "      <td>1024</td>\n",
       "      <td>...</td>\n",
       "      <td>False</td>\n",
       "      <td>False</td>\n",
       "      <td>False</td>\n",
       "      <td>False</td>\n",
       "      <td>False</td>\n",
       "      <td>False</td>\n",
       "      <td>False</td>\n",
       "      <td>False</td>\n",
       "      <td>True</td>\n",
       "      <td>False</td>\n",
       "    </tr>\n",
       "    <tr>\n",
       "      <th>2</th>\n",
       "      <td>0</td>\n",
       "      <td>0</td>\n",
       "      <td>0.000000</td>\n",
       "      <td>0.000000</td>\n",
       "      <td>33.58</td>\n",
       "      <td>0.059908</td>\n",
       "      <td>0</td>\n",
       "      <td>0</td>\n",
       "      <td>0</td>\n",
       "      <td>217</td>\n",
       "      <td>...</td>\n",
       "      <td>False</td>\n",
       "      <td>False</td>\n",
       "      <td>False</td>\n",
       "      <td>False</td>\n",
       "      <td>False</td>\n",
       "      <td>True</td>\n",
       "      <td>False</td>\n",
       "      <td>False</td>\n",
       "      <td>True</td>\n",
       "      <td>False</td>\n",
       "    </tr>\n",
       "    <tr>\n",
       "      <th>3</th>\n",
       "      <td>0</td>\n",
       "      <td>0</td>\n",
       "      <td>0.000000</td>\n",
       "      <td>0.000000</td>\n",
       "      <td>54.96</td>\n",
       "      <td>0.000000</td>\n",
       "      <td>0</td>\n",
       "      <td>0</td>\n",
       "      <td>0</td>\n",
       "      <td>0</td>\n",
       "      <td>...</td>\n",
       "      <td>False</td>\n",
       "      <td>False</td>\n",
       "      <td>False</td>\n",
       "      <td>True</td>\n",
       "      <td>False</td>\n",
       "      <td>False</td>\n",
       "      <td>False</td>\n",
       "      <td>True</td>\n",
       "      <td>False</td>\n",
       "      <td>False</td>\n",
       "    </tr>\n",
       "    <tr>\n",
       "      <th>4</th>\n",
       "      <td>1</td>\n",
       "      <td>30</td>\n",
       "      <td>90.000000</td>\n",
       "      <td>13.333333</td>\n",
       "      <td>111.91</td>\n",
       "      <td>0.008850</td>\n",
       "      <td>0</td>\n",
       "      <td>0</td>\n",
       "      <td>0</td>\n",
       "      <td>791</td>\n",
       "      <td>...</td>\n",
       "      <td>True</td>\n",
       "      <td>False</td>\n",
       "      <td>False</td>\n",
       "      <td>False</td>\n",
       "      <td>False</td>\n",
       "      <td>False</td>\n",
       "      <td>False</td>\n",
       "      <td>True</td>\n",
       "      <td>False</td>\n",
       "      <td>False</td>\n",
       "    </tr>\n",
       "  </tbody>\n",
       "</table>\n",
       "<p>5 rows × 22 columns</p>\n",
       "</div>"
      ],
      "text/plain": [
       "   retained  esent   eopenrate  eclickrate  avgorder   ordfreq  paperless  \\\n",
       "0         0     29  100.000000    3.448276     14.52  0.000000          0   \n",
       "1         1     95   92.631579   10.526316     83.69  0.181641          1   \n",
       "2         0      0    0.000000    0.000000     33.58  0.059908          0   \n",
       "3         0      0    0.000000    0.000000     54.96  0.000000          0   \n",
       "4         1     30   90.000000   13.333333    111.91  0.008850          0   \n",
       "\n",
       "   refill  doorstep  first_last_days_diff  ...  favday_Monday  \\\n",
       "0       0         0                     0  ...           True   \n",
       "1       1         1                  1024  ...          False   \n",
       "2       0         0                   217  ...          False   \n",
       "3       0         0                     0  ...          False   \n",
       "4       0         0                   791  ...           True   \n",
       "\n",
       "   favday_Saturday  favday_Sunday  favday_Thursday  favday_Tuesday  \\\n",
       "0            False          False            False           False   \n",
       "1            False          False            False           False   \n",
       "2            False          False            False           False   \n",
       "3            False          False             True           False   \n",
       "4            False          False            False           False   \n",
       "\n",
       "   favday_Wednesday  city_BLR  city_BOM  city_DEL  city_MAA  \n",
       "0             False     False     False      True     False  \n",
       "1             False     False     False      True     False  \n",
       "2              True     False     False      True     False  \n",
       "3             False     False      True     False     False  \n",
       "4             False     False      True     False     False  \n",
       "\n",
       "[5 rows x 22 columns]"
      ]
     },
     "execution_count": 50,
     "metadata": {},
     "output_type": "execute_result"
    }
   ],
   "source": [
    "storedata.head(5)"
   ]
  },
  {
   "cell_type": "code",
   "execution_count": 51,
   "id": "c8c8d0e9-b88d-40a8-99d3-20a0028329d8",
   "metadata": {
    "execution": {
     "iopub.execute_input": "2025-02-17T20:41:07.478622Z",
     "iopub.status.busy": "2025-02-17T20:41:07.478091Z",
     "iopub.status.idle": "2025-02-17T20:41:07.485836Z",
     "shell.execute_reply": "2025-02-17T20:41:07.484433Z",
     "shell.execute_reply.started": "2025-02-17T20:41:07.478595Z"
    }
   },
   "outputs": [],
   "source": [
    "def split_datasets(df):\n",
    "    y=df.pop(\"retained\")\n",
    "    X_pre = df\n",
    "    y_pre = y.to_numpy().reshape(len(y),1)\n",
    "    feature_names = list(X_pre.columns)\n",
    "    X= np.concatenate((y_pre,X_pre),axis=1)\n",
    "    np.random.shuffle(X)\n",
    "    train,validation,test=np.split(X,[int(.7*len(X)),int(.85*len(X))])\n",
    "    return feature_names, train, validation, test"
   ]
  },
  {
   "cell_type": "code",
   "execution_count": 52,
   "id": "b519ed0f-e682-4069-9d08-483f54737da4",
   "metadata": {
    "execution": {
     "iopub.execute_input": "2025-02-17T20:41:42.526471Z",
     "iopub.status.busy": "2025-02-17T20:41:42.526112Z",
     "iopub.status.idle": "2025-02-17T20:41:42.682957Z",
     "shell.execute_reply": "2025-02-17T20:41:42.679911Z",
     "shell.execute_reply.started": "2025-02-17T20:41:42.526445Z"
    }
   },
   "outputs": [],
   "source": [
    "feature_names, train, validation, test = split_datasets(storedata)\n"
   ]
  },
  {
   "cell_type": "code",
   "execution_count": 27,
   "id": "abdcc04b-bffb-449f-90ac-bdd4f1b1fa01",
   "metadata": {
    "execution": {
     "iopub.execute_input": "2025-02-17T20:25:59.646193Z",
     "iopub.status.busy": "2025-02-17T20:25:59.645325Z",
     "iopub.status.idle": "2025-02-17T20:26:00.517002Z",
     "shell.execute_reply": "2025-02-17T20:26:00.515493Z",
     "shell.execute_reply.started": "2025-02-17T20:25:59.646152Z"
    }
   },
   "outputs": [],
   "source": [
    "pd.DataFrame(train).to_csv(f\"s3://{default_bucket}/data/train/train.csv\",header=False,index=False)\n",
    "pd.DataFrame(validation).to_csv(f\"s3://{default_bucket}/data/validate/validation.csv\",header=False,index=False)\n",
    "pd.DataFrame(test).to_csv(f\"s3://{default_bucket}/data/test/test.csv\",header=False,index=False)"
   ]
  },
  {
   "cell_type": "code",
   "execution_count": 55,
   "id": "22889783-ca8e-4a91-a3c7-0047fdcc097f",
   "metadata": {
    "execution": {
     "iopub.execute_input": "2025-02-17T20:57:25.603877Z",
     "iopub.status.busy": "2025-02-17T20:57:25.603514Z",
     "iopub.status.idle": "2025-02-17T20:57:25.608453Z",
     "shell.execute_reply": "2025-02-17T20:57:25.607594Z",
     "shell.execute_reply.started": "2025-02-17T20:57:25.603853Z"
    }
   },
   "outputs": [],
   "source": [
    "train_input = TrainingInput(\n",
    "    \"s3://{}/{}/{}\".format(default_bucket, \"data\", \"train/train.csv\"), content_type=\"csv\"\n",
    ")\n",
    "validation_input = TrainingInput(\n",
    "    \"s3://{}/{}/{}\".format(default_bucket, \"data\", \"validate/validation.csv\"), content_type=\"csv\"\n",
    ")"
   ]
  },
  {
   "cell_type": "code",
   "execution_count": 56,
   "id": "ea822913-6e7e-4835-98ba-7227c418cd26",
   "metadata": {
    "execution": {
     "iopub.execute_input": "2025-02-17T20:58:06.973157Z",
     "iopub.status.busy": "2025-02-17T20:58:06.972807Z",
     "iopub.status.idle": "2025-02-17T20:58:06.990555Z",
     "shell.execute_reply": "2025-02-17T20:58:06.986513Z",
     "shell.execute_reply.started": "2025-02-17T20:58:06.973131Z"
    }
   },
   "outputs": [],
   "source": [
    "fixed_hyperparameters = {\n",
    "    \"eval_metric\":\"auc\",\n",
    "    \"objective\":\"binary:logistic\",\n",
    "    \"num_round\":\"100\",\n",
    "    \"rate_drop\":\"0.3\",\n",
    "    \"tweedie_variance_power\":\"1.4\"\n",
    "}"
   ]
  },
  {
   "cell_type": "code",
   "execution_count": 57,
   "id": "1fc6f370-a40c-430e-89cd-90fe6abd5538",
   "metadata": {
    "execution": {
     "iopub.execute_input": "2025-02-17T20:58:11.701312Z",
     "iopub.status.busy": "2025-02-17T20:58:11.700252Z",
     "iopub.status.idle": "2025-02-17T20:58:13.633913Z",
     "shell.execute_reply": "2025-02-17T20:58:13.633235Z",
     "shell.execute_reply.started": "2025-02-17T20:58:11.701280Z"
    }
   },
   "outputs": [
    {
     "name": "stdout",
     "output_type": "stream",
     "text": [
      "sagemaker.config INFO - Applied value from config key = SageMaker.PythonSDK.Modules.Session.DefaultS3Bucket\n",
      "sagemaker.config INFO - Applied value from config key = SageMaker.PythonSDK.Modules.Session.DefaultS3ObjectKeyPrefix\n",
      "sagemaker.config INFO - Applied value from config key = SageMaker.TrainingJob.VpcConfig.Subnets\n",
      "sagemaker.config INFO - Applied value from config key = SageMaker.TrainingJob.VpcConfig.SecurityGroupIds\n"
     ]
    }
   ],
   "source": [
    "sess = sagemaker.Session()\n",
    "container = sagemaker.image_uris.retrieve(\"xgboost\",region,\"0.90-2\")\n",
    "\n",
    "estimator = sagemaker.estimator.Estimator(\n",
    "    container,\n",
    "    role,\n",
    "    instance_count=1,\n",
    "    hyperparameters=fixed_hyperparameters,\n",
    "    instance_type=\"ml.m4.xlarge\",\n",
    "    output_path=\"s3://{}/output\".format(default_bucket),\n",
    "    sagemaker_session=sagemaker_session\n",
    ")"
   ]
  },
  {
   "cell_type": "code",
   "execution_count": 58,
   "id": "806ebd79-46c6-42f2-acd9-14b5a9a1c443",
   "metadata": {
    "execution": {
     "iopub.execute_input": "2025-02-17T20:59:08.323754Z",
     "iopub.status.busy": "2025-02-17T20:59:08.323317Z",
     "iopub.status.idle": "2025-02-17T20:59:08.330917Z",
     "shell.execute_reply": "2025-02-17T20:59:08.329138Z",
     "shell.execute_reply.started": "2025-02-17T20:59:08.323729Z"
    }
   },
   "outputs": [],
   "source": [
    "hyperparameter_ranges = {\n",
    "    \"eta\": ContinuousParameter(0, 1),\n",
    "    \"min_child_weight\": ContinuousParameter(1, 10),\n",
    "    \"alpha\": ContinuousParameter(0, 2),\n",
    "    \"max_depth\": IntegerParameter(1, 10),\n",
    "}"
   ]
  },
  {
   "cell_type": "code",
   "execution_count": 59,
   "id": "9127ae04-7ad5-4b04-9d72-57ed7050c116",
   "metadata": {
    "execution": {
     "iopub.execute_input": "2025-02-17T20:59:24.573603Z",
     "iopub.status.busy": "2025-02-17T20:59:24.573268Z",
     "iopub.status.idle": "2025-02-17T20:59:24.579491Z",
     "shell.execute_reply": "2025-02-17T20:59:24.578074Z",
     "shell.execute_reply.started": "2025-02-17T20:59:24.573579Z"
    }
   },
   "outputs": [],
   "source": [
    "objective_metric_name = \"validation:auc\""
   ]
  },
  {
   "cell_type": "code",
   "execution_count": 60,
   "id": "540c77dc-4a4f-4a4d-8a7d-93b8bb7e2e94",
   "metadata": {
    "execution": {
     "iopub.execute_input": "2025-02-17T20:59:29.407564Z",
     "iopub.status.busy": "2025-02-17T20:59:29.406982Z",
     "iopub.status.idle": "2025-02-17T20:59:29.412075Z",
     "shell.execute_reply": "2025-02-17T20:59:29.410758Z",
     "shell.execute_reply.started": "2025-02-17T20:59:29.407536Z"
    }
   },
   "outputs": [],
   "source": [
    "tuner = HyperparameterTuner(\n",
    "    estimator, objective_metric_name, hyperparameter_ranges, max_jobs=10, max_parallel_jobs=2)"
   ]
  },
  {
   "cell_type": "code",
   "execution_count": 61,
   "id": "1b69742f-6e6a-4d2c-8e7e-ea5452376d8e",
   "metadata": {
    "execution": {
     "iopub.execute_input": "2025-02-17T20:59:32.354908Z",
     "iopub.status.busy": "2025-02-17T20:59:32.354467Z",
     "iopub.status.idle": "2025-02-17T21:01:05.318774Z",
     "shell.execute_reply": "2025-02-17T21:01:05.316503Z",
     "shell.execute_reply.started": "2025-02-17T20:59:32.354882Z"
    }
   },
   "outputs": [
    {
     "name": "stdout",
     "output_type": "stream",
     "text": [
      ".................*\n"
     ]
    },
    {
     "ename": "UnexpectedStatusException",
     "evalue": "Error for HyperParameterTuning job sagemaker-xgboost-250217-2059: Failed. Reason: All training jobs failed. Please take a look at the training jobs failures to get more details.",
     "output_type": "error",
     "traceback": [
      "\u001b[0;31m---------------------------------------------------------------------------\u001b[0m",
      "\u001b[0;31mUnexpectedStatusException\u001b[0m                 Traceback (most recent call last)",
      "Cell \u001b[0;32mIn[61], line 1\u001b[0m\n\u001b[0;32m----> 1\u001b[0m \u001b[43mtuner\u001b[49m\u001b[38;5;241;43m.\u001b[39;49m\u001b[43mfit\u001b[49m\u001b[43m(\u001b[49m\u001b[43m{\u001b[49m\n\u001b[1;32m      2\u001b[0m \u001b[43m    \u001b[49m\u001b[38;5;124;43m\"\u001b[39;49m\u001b[38;5;124;43mtrain\u001b[39;49m\u001b[38;5;124;43m\"\u001b[39;49m\u001b[43m:\u001b[49m\u001b[43ms3_input_train\u001b[49m\u001b[43m,\u001b[49m\n\u001b[1;32m      3\u001b[0m \u001b[43m    \u001b[49m\u001b[38;5;124;43m\"\u001b[39;49m\u001b[38;5;124;43mvalidation\u001b[39;49m\u001b[38;5;124;43m\"\u001b[39;49m\u001b[43m:\u001b[49m\u001b[43ms3_input_validation\u001b[49m\n\u001b[1;32m      4\u001b[0m \u001b[43m    \u001b[49m\u001b[43m}\u001b[49m\u001b[43m,\u001b[49m\u001b[43minclude_cls_metadata\u001b[49m\u001b[38;5;241;43m=\u001b[39;49m\u001b[38;5;28;43;01mFalse\u001b[39;49;00m\u001b[43m)\u001b[49m\n",
      "File \u001b[0;32m/opt/conda/lib/python3.11/site-packages/sagemaker/workflow/pipeline_context.py:346\u001b[0m, in \u001b[0;36mrunnable_by_pipeline.<locals>.wrapper\u001b[0;34m(*args, **kwargs)\u001b[0m\n\u001b[1;32m    342\u001b[0m         \u001b[38;5;28;01mreturn\u001b[39;00m context\n\u001b[1;32m    344\u001b[0m     \u001b[38;5;28;01mreturn\u001b[39;00m _StepArguments(retrieve_caller_name(self_instance), run_func, \u001b[38;5;241m*\u001b[39margs, \u001b[38;5;241m*\u001b[39m\u001b[38;5;241m*\u001b[39mkwargs)\n\u001b[0;32m--> 346\u001b[0m \u001b[38;5;28;01mreturn\u001b[39;00m \u001b[43mrun_func\u001b[49m\u001b[43m(\u001b[49m\u001b[38;5;241;43m*\u001b[39;49m\u001b[43margs\u001b[49m\u001b[43m,\u001b[49m\u001b[43m \u001b[49m\u001b[38;5;241;43m*\u001b[39;49m\u001b[38;5;241;43m*\u001b[39;49m\u001b[43mkwargs\u001b[49m\u001b[43m)\u001b[49m\n",
      "File \u001b[0;32m/opt/conda/lib/python3.11/site-packages/sagemaker/tuner.py:1044\u001b[0m, in \u001b[0;36mHyperparameterTuner.fit\u001b[0;34m(self, inputs, job_name, include_cls_metadata, estimator_kwargs, wait, **kwargs)\u001b[0m\n\u001b[1;32m   1041\u001b[0m     \u001b[38;5;28mself\u001b[39m\u001b[38;5;241m.\u001b[39m_fit_with_estimator_dict(inputs, job_name, include_cls_metadata, estimator_kwargs)\n\u001b[1;32m   1043\u001b[0m \u001b[38;5;28;01mif\u001b[39;00m wait:\n\u001b[0;32m-> 1044\u001b[0m     \u001b[38;5;28;43mself\u001b[39;49m\u001b[38;5;241;43m.\u001b[39;49m\u001b[43mlatest_tuning_job\u001b[49m\u001b[38;5;241;43m.\u001b[39;49m\u001b[43mwait\u001b[49m\u001b[43m(\u001b[49m\u001b[43m)\u001b[49m\n",
      "File \u001b[0;32m/opt/conda/lib/python3.11/site-packages/sagemaker/tuner.py:2353\u001b[0m, in \u001b[0;36m_TuningJob.wait\u001b[0;34m(self)\u001b[0m\n\u001b[1;32m   2351\u001b[0m \u001b[38;5;28;01mdef\u001b[39;00m\u001b[38;5;250m \u001b[39m\u001b[38;5;21mwait\u001b[39m(\u001b[38;5;28mself\u001b[39m):\n\u001b[1;32m   2352\u001b[0m \u001b[38;5;250m    \u001b[39m\u001b[38;5;124;03m\"\"\"Placeholder docstring.\"\"\"\u001b[39;00m\n\u001b[0;32m-> 2353\u001b[0m     \u001b[38;5;28;43mself\u001b[39;49m\u001b[38;5;241;43m.\u001b[39;49m\u001b[43msagemaker_session\u001b[49m\u001b[38;5;241;43m.\u001b[39;49m\u001b[43mwait_for_tuning_job\u001b[49m\u001b[43m(\u001b[49m\u001b[38;5;28;43mself\u001b[39;49m\u001b[38;5;241;43m.\u001b[39;49m\u001b[43mname\u001b[49m\u001b[43m)\u001b[49m\n",
      "File \u001b[0;32m/opt/conda/lib/python3.11/site-packages/sagemaker/session.py:5273\u001b[0m, in \u001b[0;36mSession.wait_for_tuning_job\u001b[0;34m(self, job, poll)\u001b[0m\n\u001b[1;32m   5259\u001b[0m \u001b[38;5;250m\u001b[39m\u001b[38;5;124;03m\"\"\"Wait for an Amazon SageMaker hyperparameter tuning job to complete.\u001b[39;00m\n\u001b[1;32m   5260\u001b[0m \n\u001b[1;32m   5261\u001b[0m \u001b[38;5;124;03mArgs:\u001b[39;00m\n\u001b[0;32m   (...)\u001b[0m\n\u001b[1;32m   5270\u001b[0m \u001b[38;5;124;03m    exceptions.UnexpectedStatusException: If the hyperparameter tuning job fails.\u001b[39;00m\n\u001b[1;32m   5271\u001b[0m \u001b[38;5;124;03m\"\"\"\u001b[39;00m\n\u001b[1;32m   5272\u001b[0m desc \u001b[38;5;241m=\u001b[39m _wait_until(\u001b[38;5;28;01mlambda\u001b[39;00m: _tuning_job_status(\u001b[38;5;28mself\u001b[39m\u001b[38;5;241m.\u001b[39msagemaker_client, job), poll)\n\u001b[0;32m-> 5273\u001b[0m \u001b[43m_check_job_status\u001b[49m\u001b[43m(\u001b[49m\u001b[43mjob\u001b[49m\u001b[43m,\u001b[49m\u001b[43m \u001b[49m\u001b[43mdesc\u001b[49m\u001b[43m,\u001b[49m\u001b[43m \u001b[49m\u001b[38;5;124;43m\"\u001b[39;49m\u001b[38;5;124;43mHyperParameterTuningJobStatus\u001b[39;49m\u001b[38;5;124;43m\"\u001b[39;49m\u001b[43m)\u001b[49m\n\u001b[1;32m   5274\u001b[0m \u001b[38;5;28;01mreturn\u001b[39;00m desc\n",
      "File \u001b[0;32m/opt/conda/lib/python3.11/site-packages/sagemaker/session.py:8508\u001b[0m, in \u001b[0;36m_check_job_status\u001b[0;34m(job, desc, status_key_name)\u001b[0m\n\u001b[1;32m   8502\u001b[0m \u001b[38;5;28;01mif\u001b[39;00m \u001b[38;5;124m\"\u001b[39m\u001b[38;5;124mCapacityError\u001b[39m\u001b[38;5;124m\"\u001b[39m \u001b[38;5;129;01min\u001b[39;00m \u001b[38;5;28mstr\u001b[39m(reason):\n\u001b[1;32m   8503\u001b[0m     \u001b[38;5;28;01mraise\u001b[39;00m exceptions\u001b[38;5;241m.\u001b[39mCapacityError(\n\u001b[1;32m   8504\u001b[0m         message\u001b[38;5;241m=\u001b[39mmessage,\n\u001b[1;32m   8505\u001b[0m         allowed_statuses\u001b[38;5;241m=\u001b[39m[\u001b[38;5;124m\"\u001b[39m\u001b[38;5;124mCompleted\u001b[39m\u001b[38;5;124m\"\u001b[39m, \u001b[38;5;124m\"\u001b[39m\u001b[38;5;124mStopped\u001b[39m\u001b[38;5;124m\"\u001b[39m],\n\u001b[1;32m   8506\u001b[0m         actual_status\u001b[38;5;241m=\u001b[39mstatus,\n\u001b[1;32m   8507\u001b[0m     )\n\u001b[0;32m-> 8508\u001b[0m \u001b[38;5;28;01mraise\u001b[39;00m exceptions\u001b[38;5;241m.\u001b[39mUnexpectedStatusException(\n\u001b[1;32m   8509\u001b[0m     message\u001b[38;5;241m=\u001b[39mmessage,\n\u001b[1;32m   8510\u001b[0m     allowed_statuses\u001b[38;5;241m=\u001b[39m[\u001b[38;5;124m\"\u001b[39m\u001b[38;5;124mCompleted\u001b[39m\u001b[38;5;124m\"\u001b[39m, \u001b[38;5;124m\"\u001b[39m\u001b[38;5;124mStopped\u001b[39m\u001b[38;5;124m\"\u001b[39m],\n\u001b[1;32m   8511\u001b[0m     actual_status\u001b[38;5;241m=\u001b[39mstatus,\n\u001b[1;32m   8512\u001b[0m )\n",
      "\u001b[0;31mUnexpectedStatusException\u001b[0m: Error for HyperParameterTuning job sagemaker-xgboost-250217-2059: Failed. Reason: All training jobs failed. Please take a look at the training jobs failures to get more details."
     ]
    }
   ],
   "source": [
    "tuner.fit({\n",
    "    \"train\":s3_input_train,\n",
    "    \"validation\":s3_input_validation\n",
    "    },include_cls_metadata=False)"
   ]
  },
  {
   "cell_type": "code",
   "execution_count": 45,
   "id": "d849eb70-187b-47d3-a98b-12d537f59d66",
   "metadata": {
    "execution": {
     "iopub.execute_input": "2025-02-17T20:33:12.768677Z",
     "iopub.status.busy": "2025-02-17T20:33:12.768104Z",
     "iopub.status.idle": "2025-02-17T20:33:12.951147Z",
     "shell.execute_reply": "2025-02-17T20:33:12.950236Z",
     "shell.execute_reply.started": "2025-02-17T20:33:12.768650Z"
    }
   },
   "outputs": [],
   "source": [
    "tuning_job_result = boto3.client(\"sagemaker\").describe_hyper_parameter_tuning_job(\n",
    "    HyperParameterTuningJobName=tuner.latest_tuning_job.job_name\n",
    ")"
   ]
  },
  {
   "cell_type": "code",
   "execution_count": 46,
   "id": "be32634a-029a-4779-b7c4-be3578c8e448",
   "metadata": {
    "execution": {
     "iopub.execute_input": "2025-02-17T20:33:15.156540Z",
     "iopub.status.busy": "2025-02-17T20:33:15.154544Z",
     "iopub.status.idle": "2025-02-17T20:33:15.162247Z",
     "shell.execute_reply": "2025-02-17T20:33:15.161347Z",
     "shell.execute_reply.started": "2025-02-17T20:33:15.156395Z"
    }
   },
   "outputs": [
    {
     "name": "stdout",
     "output_type": "stream",
     "text": [
      "0 training jobs have completed\n"
     ]
    }
   ],
   "source": [
    "job_count = tuning_job_result[\"TrainingJobStatusCounters\"][\"Completed\"]\n",
    "print(\"%d training jobs have completed\" %job_count)"
   ]
  },
  {
   "cell_type": "code",
   "execution_count": 39,
   "id": "8bde1595-75c3-470d-9ae5-99800a40075b",
   "metadata": {
    "execution": {
     "iopub.execute_input": "2025-02-17T20:28:16.255803Z",
     "iopub.status.busy": "2025-02-17T20:28:16.255433Z",
     "iopub.status.idle": "2025-02-17T20:28:16.261605Z",
     "shell.execute_reply": "2025-02-17T20:28:16.260363Z",
     "shell.execute_reply.started": "2025-02-17T20:28:16.255778Z"
    }
   },
   "outputs": [
    {
     "name": "stdout",
     "output_type": "stream",
     "text": [
      "No training jobs have reported results yet.\n"
     ]
    }
   ],
   "source": [
    "from pprint import pprint\n",
    "\n",
    "if tuning_job_result.get(\"BestTrainingJob\",None):\n",
    "    print(\"Best Model found so far:\")\n",
    "    pprint(tuning_job_result[\"BestTrainingJob\"])\n",
    "else:\n",
    "    print(\"No training jobs have reported results yet.\")"
   ]
  },
  {
   "cell_type": "code",
   "execution_count": 40,
   "id": "34a203f5-dd87-4c81-a493-9d72c2deb3d6",
   "metadata": {
    "execution": {
     "iopub.execute_input": "2025-02-17T20:28:19.676746Z",
     "iopub.status.busy": "2025-02-17T20:28:19.676246Z",
     "iopub.status.idle": "2025-02-17T20:28:19.725819Z",
     "shell.execute_reply": "2025-02-17T20:28:19.724158Z",
     "shell.execute_reply.started": "2025-02-17T20:28:19.676716Z"
    }
   },
   "outputs": [
    {
     "ename": "KeyError",
     "evalue": "'BestTrainingJob'",
     "output_type": "error",
     "traceback": [
      "\u001b[0;31m---------------------------------------------------------------------------\u001b[0m",
      "\u001b[0;31mKeyError\u001b[0m                                  Traceback (most recent call last)",
      "Cell \u001b[0;32mIn[40], line 1\u001b[0m\n\u001b[0;32m----> 1\u001b[0m best_hyperparameters \u001b[38;5;241m=\u001b[39m \u001b[43mtuning_job_result\u001b[49m\u001b[43m[\u001b[49m\u001b[38;5;124;43m\"\u001b[39;49m\u001b[38;5;124;43mBestTrainingJob\u001b[39;49m\u001b[38;5;124;43m\"\u001b[39;49m\u001b[43m]\u001b[49m[\u001b[38;5;124m\"\u001b[39m\u001b[38;5;124mTunedHyperParameters\u001b[39m\u001b[38;5;124m\"\u001b[39m]\n",
      "\u001b[0;31mKeyError\u001b[0m: 'BestTrainingJob'"
     ]
    }
   ],
   "source": [
    "best_hyperparameters = tuning_job_result[\"BestTrainingJob\"][\"TunedHyperParameters\"]"
   ]
  },
  {
   "cell_type": "code",
   "execution_count": null,
   "id": "50539e22-fb99-4961-adc5-ad40cb713e5b",
   "metadata": {},
   "outputs": [],
   "source": [
    "best_hyperparameters"
   ]
  },
  {
   "cell_type": "code",
   "execution_count": null,
   "id": "d380f4b9-4744-43b2-8fff-d9c319c5bb97",
   "metadata": {},
   "outputs": [],
   "source": [
    "hyperparameters = {**fixed_hyperparameters,**best_hyperparameters}\n",
    "save_interval = 5\n",
    "base_job_name = \"demo-smdebug-xgboost-churn-classification\""
   ]
  },
  {
   "cell_type": "code",
   "execution_count": null,
   "id": "9181b34c-0ace-4ec6-b49f-2cd6c050b221",
   "metadata": {},
   "outputs": [],
   "source": [
    "container = sagemaker.image_uris.retrieve(\"xgboost\",region,\"0.90-2\")"
   ]
  },
  {
   "cell_type": "code",
   "execution_count": null,
   "id": "4ed20242-47cb-46c5-97f9-334b7676574d",
   "metadata": {},
   "outputs": [],
   "source": [
    "estimator = sagemaker.estimator.Estimator(\n",
    "    container,\n",
    "    role,\n",
    "    base_job_name=base_job_name,\n",
    "    instance_count=1,\n",
    "    instance_type=\"ml.m4.xlarge\",\n",
    "    output_path=\"s3://{}/output\".format(default_bucket),\n",
    "    sagemaker_session=sess,\n",
    "    hyperparameters=hyperparameters,\n",
    "    max_run=1800,\n",
    "    debugger_hook_config = DebuggerHookConfig(\n",
    "        s3_output_path=f\"s3://{default_bucket}/debugger/\",  # Required\n",
    "        collection_configs=[\n",
    "            CollectionConfig(\n",
    "                name=\"metrics\",\n",
    "                parameters={\n",
    "                    \"save_interval\": \"5\"\n",
    "                }),\n",
    "            CollectionConfig(\n",
    "                name=\"feature_importance\", parameters={\"save_interval\": \"5\"}\n",
    "            ),\n",
    "            CollectionConfig(name=\"full_shap\", parameters={\"save_interval\": \"5\"}),\n",
    "            CollectionConfig(name=\"average_shap\", parameters={\"save_interval\": \"5\"}),\n",
    "        ]\n",
    "    ),\n",
    "    rules=[\n",
    "        Rule.sagemaker(\n",
    "            rule_configs.loss_not_decreasing(),\n",
    "            rule_parameters={\n",
    "                \"collection_names\": \"metrics\",\n",
    "                \"num_steps\": \"10\",\n",
    "            },\n",
    "        ),\n",
    "    ]\n",
    ")"
   ]
  },
  {
   "cell_type": "code",
   "execution_count": null,
   "id": "0f3a6368-118c-4836-979d-ca84e98f83d6",
   "metadata": {},
   "outputs": [],
   "source": [
    "estimator.fit(\n",
    "        {\"train\":s3_input_train,\"validation\":s3_input_validation},wait=False\n",
    "    )"
   ]
  },
  {
   "cell_type": "code",
   "execution_count": null,
   "id": "973738f9-1fde-47de-8527-032bf43db41d",
   "metadata": {},
   "outputs": [],
   "source": [
    "for _ in range(36):\n",
    "    job_name = estimator.latest_training_job.name\n",
    "    client = estimator.sagemaker_session.sagemaker_client\n",
    "    description = client.describe_training_job(TrainingJobName=job_name)\n",
    "    training_job_status = description[\"TrainingJobStatus\"]\n",
    "    rule_job_summary = estimator.latest_training_job.rule_job_summary()\n",
    "    rule_evaluation_status = rule_job_summary[0][\"RuleEvaluationStatus\"]\n",
    "    print(\n",
    "        \"Training job status: {}, Rule Evaluation Status: {}\".format(\n",
    "            training_job_status, rule_evaluation_status\n",
    "        )\n",
    "    )\n",
    "    if training_job_status in [\"Completed\", \"Failed\"]:\n",
    "        break\n",
    "    time.sleep(10)"
   ]
  },
  {
   "cell_type": "code",
   "execution_count": null,
   "id": "de28379d-8112-4cb6-8e8c-969e31b27bed",
   "metadata": {},
   "outputs": [],
   "source": [
    "estimator.latest_training_job.rule_job_summary()"
   ]
  },
  {
   "cell_type": "code",
   "execution_count": null,
   "id": "8e52ce5f-8812-44c4-93ed-ecddc9b05752",
   "metadata": {},
   "outputs": [],
   "source": [
    "s3_output_path = estimator.latest_job_debugger_artifacts_path()\n",
    "trial = create_trial(s3_output_path)"
   ]
  },
  {
   "cell_type": "code",
   "execution_count": null,
   "id": "3c602b6a-1c9e-483e-a42a-94a67c2d047e",
   "metadata": {},
   "outputs": [],
   "source": [
    "trial.tensor_names()"
   ]
  },
  {
   "cell_type": "code",
   "execution_count": null,
   "id": "f7fd4651-efd7-4377-a04a-bd238cedce1e",
   "metadata": {},
   "outputs": [],
   "source": [
    "trial.tensor(\"average_shap/f1\").values()"
   ]
  },
  {
   "cell_type": "code",
   "execution_count": null,
   "id": "a0edfc9f-b2d9-4f0f-a7a1-73f48f4f4dc7",
   "metadata": {},
   "outputs": [],
   "source": [
    "MAX_PLOTS = 35\n",
    "\n",
    "\n",
    "def get_data(trial, tname):\n",
    "    \"\"\"\n",
    "    For the given tensor name, walks though all the iterations\n",
    "    for which you have data and fetches the values.\n",
    "    Returns the set of steps and the values.\n",
    "    \"\"\"\n",
    "    tensor = trial.tensor(tname)\n",
    "    steps = tensor.steps()\n",
    "    vals = [tensor.value(s) for s in steps]\n",
    "    return steps, vals\n",
    "\n",
    "\n",
    "def match_tensor_name_with_feature_name(tensor_name, feature_names=feature_names):\n",
    "    feature_tag = tensor_name.split(\"/\")\n",
    "    for ifeat, feature_name in enumerate(feature_names):\n",
    "        if feature_tag[-1] == \"f{}\".format(str(ifeat)):\n",
    "            return feature_name\n",
    "    return tensor_name\n",
    "\n",
    "\n",
    "def plot_collection(trial, collection_name, regex=\".*\", figsize=(8, 6)):\n",
    "    \"\"\"\n",
    "    Takes a `trial` and a collection name, and\n",
    "    plots all tensors that match the given regex.\n",
    "    \"\"\"\n",
    "    fig, ax = plt.subplots(figsize=figsize)\n",
    "    tensors = trial.collection(collection_name).tensor_names\n",
    "    matched_tensors = [t for t in tensors if re.match(regex, t)]\n",
    "    for tensor_name in islice(matched_tensors, MAX_PLOTS):\n",
    "        steps, data = get_data(trial, tensor_name)\n",
    "        ax.plot(steps, data, label=match_tensor_name_with_feature_name(tensor_name))\n",
    "\n",
    "    ax.legend(loc=\"center left\", bbox_to_anchor=(1, 0.5))\n",
    "    ax.set_xlabel(\"Iteration\")"
   ]
  },
  {
   "cell_type": "code",
   "execution_count": null,
   "id": "71e602a6-fa88-4b8e-9b43-fc21e378ad85",
   "metadata": {},
   "outputs": [],
   "source": [
    "plot_collection(trial, \"metrics\")"
   ]
  },
  {
   "cell_type": "code",
   "execution_count": null,
   "id": "762aaf0a-c8ca-4faa-b14f-959dd94b3acd",
   "metadata": {},
   "outputs": [],
   "source": [
    "def plot_feature_importance(trial, importance_type=\"weight\"):\n",
    "    SUPPORTED_IMPORTANCE_TYPES = [\"weight\", \"gain\", \"cover\", \"total_gain\", \"total_cover\"]\n",
    "    if importance_type not in SUPPORTED_IMPORTANCE_TYPES:\n",
    "        raise ValueError(f\"{importance_type} is not one of the supported importance types.\")\n",
    "    plot_collection(trial, \"feature_importance\", regex=f\"feature_importance/{importance_type}/.*\")"
   ]
  },
  {
   "cell_type": "code",
   "execution_count": null,
   "id": "9a0aaca8-4679-44b7-b9ab-d114e54a3061",
   "metadata": {},
   "outputs": [],
   "source": [
    "plot_feature_importance(trial, importance_type=\"cover\")"
   ]
  },
  {
   "cell_type": "code",
   "execution_count": null,
   "id": "e3bd7f58-ea0e-4484-a0e0-378a77f1b151",
   "metadata": {},
   "outputs": [],
   "source": [
    "plot_collection(trial, \"average_shap\")"
   ]
  },
  {
   "cell_type": "code",
   "execution_count": null,
   "id": "7da78f05-ad6d-4577-9634-6ed5645124af",
   "metadata": {},
   "outputs": [],
   "source": [
    "shap_values = trial.tensor(\"full_shap/f0\").value(trial.last_complete_step)\n",
    "shap_no_base = shap_values[:, :-1]\n",
    "shap_base_value = shap_values[0, -1]\n",
    "shap.summary_plot(shap_no_base, plot_type=\"bar\", feature_names=feature_names)"
   ]
  },
  {
   "cell_type": "code",
   "execution_count": null,
   "id": "8370b882-1696-4f67-9d28-53315d259a53",
   "metadata": {},
   "outputs": [],
   "source": [
    "shap_base_value"
   ]
  },
  {
   "cell_type": "code",
   "execution_count": null,
   "id": "7cb1c4ec-2a98-4439-b5db-549c38791795",
   "metadata": {},
   "outputs": [],
   "source": [
    "train_shap = pd.DataFrame(train[:,1:],columns=feature_names)"
   ]
  },
  {
   "cell_type": "code",
   "execution_count": null,
   "id": "eba72210-0646-4d96-a6ea-b50e7752bd72",
   "metadata": {},
   "outputs": [],
   "source": [
    "shap.summary_plot(shap_no_base, train_shap)"
   ]
  },
  {
   "cell_type": "code",
   "execution_count": null,
   "id": "f684fe2d-fa3d-47f0-9f84-0a44c1cae08a",
   "metadata": {},
   "outputs": [],
   "source": []
  }
 ],
 "metadata": {
  "kernelspec": {
   "display_name": "Python 3 (ipykernel)",
   "language": "python",
   "name": "python3"
  },
  "language_info": {
   "codemirror_mode": {
    "name": "ipython",
    "version": 3
   },
   "file_extension": ".py",
   "mimetype": "text/x-python",
   "name": "python",
   "nbconvert_exporter": "python",
   "pygments_lexer": "ipython3",
   "version": "3.11.11"
  }
 },
 "nbformat": 4,
 "nbformat_minor": 5
}
